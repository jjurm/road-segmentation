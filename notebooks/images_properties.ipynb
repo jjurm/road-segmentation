{
 "cells": [
  {
   "cell_type": "code",
   "execution_count": 2,
   "id": "70a23ce1",
   "metadata": {},
   "outputs": [],
   "source": [
    "import numpy as np\n",
    "from PIL import Image"
   ]
  },
  {
   "cell_type": "code",
   "execution_count": 4,
   "metadata": {},
   "outputs": [
    {
     "ename": "NameError",
     "evalue": "name 'training' is not defined",
     "output_type": "error",
     "traceback": [
      "\u001b[0;31m---------------------------------------------------------------------------\u001b[0m",
      "\u001b[0;31mNameError\u001b[0m                                 Traceback (most recent call last)",
      "\u001b[1;32m/mnt/c/large_projects/CIL Project/cil-project/notebooks/images_properties.ipynb Cell 2\u001b[0m in \u001b[0;36m<cell line: 3>\u001b[0;34m()\u001b[0m\n\u001b[1;32m      <a href='vscode-notebook-cell://wsl%2Bubuntu/mnt/c/large_projects/CIL%20Project/cil-project/notebooks/images_properties.ipynb#ch0000000vscode-remote?line=0'>1</a>\u001b[0m \u001b[39m# get paths\u001b[39;00m\n\u001b[1;32m      <a href='vscode-notebook-cell://wsl%2Bubuntu/mnt/c/large_projects/CIL%20Project/cil-project/notebooks/images_properties.ipynb#ch0000000vscode-remote?line=1'>2</a>\u001b[0m paths \u001b[39m=\u001b[39m {\n\u001b[0;32m----> <a href='vscode-notebook-cell://wsl%2Bubuntu/mnt/c/large_projects/CIL%20Project/cil-project/notebooks/images_properties.ipynb#ch0000000vscode-remote?line=2'>3</a>\u001b[0m     training: \u001b[39m'\u001b[39m\u001b[39m../data/training\u001b[39m\u001b[39m'\u001b[39m,\n\u001b[1;32m      <a href='vscode-notebook-cell://wsl%2Bubuntu/mnt/c/large_projects/CIL%20Project/cil-project/notebooks/images_properties.ipynb#ch0000000vscode-remote?line=3'>4</a>\u001b[0m     test: \u001b[39m'\u001b[39m\u001b[39m../data/test\u001b[39m\u001b[39m'\u001b[39m,\n\u001b[1;32m      <a href='vscode-notebook-cell://wsl%2Bubuntu/mnt/c/large_projects/CIL%20Project/cil-project/notebooks/images_properties.ipynb#ch0000000vscode-remote?line=4'>5</a>\u001b[0m     gmaps: \u001b[39m'\u001b[39m\u001b[39m../data/gmaps\u001b[39m\u001b[39m'\u001b[39m\n\u001b[1;32m      <a href='vscode-notebook-cell://wsl%2Bubuntu/mnt/c/large_projects/CIL%20Project/cil-project/notebooks/images_properties.ipynb#ch0000000vscode-remote?line=5'>6</a>\u001b[0m }\n",
      "\u001b[0;31mNameError\u001b[0m: name 'training' is not defined"
     ]
    }
   ],
   "source": [
    "# get paths\n",
    "paths = {\n",
    "    'training': '../data/training',\n",
    "    'test': '../data/test',\n",
    "    'gmaps': '../data/gmaps'\n",
    "}"
   ]
  },
  {
   "cell_type": "code",
   "execution_count": null,
   "id": "700a3f9a",
   "metadata": {},
   "outputs": [],
   "source": [
    "# iterate over image sets\n",
    "for "
   ]
  }
 ],
 "metadata": {
  "kernelspec": {
   "display_name": "Python 3",
   "language": "python",
   "name": "python3"
  },
  "language_info": {
   "codemirror_mode": {
    "name": "ipython",
    "version": 3
   },
   "file_extension": ".py",
   "mimetype": "text/x-python",
   "name": "python",
   "nbconvert_exporter": "python",
   "pygments_lexer": "ipython3",
   "version": "3.8.10"
  }
 },
 "nbformat": 4,
 "nbformat_minor": 5
}
